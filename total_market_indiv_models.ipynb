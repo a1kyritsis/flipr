{
 "cells": [
  {
   "cell_type": "code",
   "execution_count": 1,
   "metadata": {},
   "outputs": [],
   "source": [
    "import numpy as np\n",
    "import pandas as pd\n",
    "import matplotlib.pyplot as plt\n",
    "import seaborn as sns\n",
    "from sklearn.linear_model import LogisticRegression, LinearRegression"
   ]
  },
  {
   "cell_type": "code",
   "execution_count": 2,
   "metadata": {},
   "outputs": [],
   "source": [
    "%load_ext autoreload\n",
    "%autoreload 2\n",
    "from functions import loaddata, MACD, RSI\n",
    "from portfolio import Portfolio"
   ]
  },
  {
   "cell_type": "code",
   "execution_count": 3,
   "metadata": {},
   "outputs": [],
   "source": [
    "def sign(x):\n",
    "    if x > 0:\n",
    "        return 1\n",
    "    elif x < 0:\n",
    "        return 0\n",
    "    else:\n",
    "        return 2\n",
    "    \n",
    "def my_log(x):\n",
    "    if x != 0 and np.isnan(x) == False:\n",
    "        return np.log(x)\n",
    "    else:\n",
    "        return x"
   ]
  },
  {
   "cell_type": "code",
   "execution_count": 34,
   "metadata": {},
   "outputs": [],
   "source": [
    "start_date = 20170101\n",
    "end_date = 20190101\n",
    "rtxm_ti2 = loaddata(\"rtxm_ti2\", start_date, end_date)\n",
    "rtxm_ti1 = loaddata(\"rtxm_ti1\", start_date, end_date)\n",
    "r_ti2 = loaddata(\"r_ti2\", start_date, end_date)\n",
    "volume = loaddata(\"volall_day\", start_date, end_date)\n",
    "mid_close = loaddata(\"mid_close\", start_date, end_date)\n",
    "mid_open = loaddata(\"mid_open\", start_date, end_date)\n",
    "\n",
    "start_date1 = 20190101\n",
    "end_date1 = 20200101\n",
    "rtxm_ti2_test = loaddata(\"rtxm_ti2\", start_date1, end_date1)\n",
    "rtxm_ti1_test = loaddata(\"rtxm_ti1\", start_date1, end_date1)\n",
    "r_ti2_test = loaddata(\"r_ti2\", start_date1, end_date1)\n",
    "volume_test = loaddata(\"volall_day\", start_date1, end_date1)\n",
    "mid_close_test = loaddata(\"mid_close\", start_date1, end_date1)\n",
    "mid_open_test = loaddata(\"mid_open\", start_date1, end_date1)"
   ]
  },
  {
   "cell_type": "code",
   "execution_count": 35,
   "metadata": {},
   "outputs": [
    {
     "name": "stderr",
     "output_type": "stream",
     "text": [
      "/Users/jameshetherington/anaconda3/envs/ml-0451/lib/python3.9/site-packages/sklearn/linear_model/_logistic.py:469: ConvergenceWarning: lbfgs failed to converge (status=1):\n",
      "STOP: TOTAL NO. of ITERATIONS REACHED LIMIT.\n",
      "\n",
      "Increase the number of iterations (max_iter) or scale the data as shown in:\n",
      "    https://scikit-learn.org/stable/modules/preprocessing.html\n",
      "Please also refer to the documentation for alternative solver options:\n",
      "    https://scikit-learn.org/stable/modules/linear_model.html#logistic-regression\n",
      "  n_iter_i = _check_optimize_result(\n"
     ]
    },
    {
     "name": "stdout",
     "output_type": "stream",
     "text": [
      "Proportion of correct labels:  0.9467098037343011\n",
      "Proportion of correct guesses:  0.49094517430211093\n",
      "Total Money Made:  4686.785820081868\n",
      "\n",
      "\n",
      "Mean Score:  0.506868323945863\n",
      "Max Score:  0.6556016597510373\n",
      "Min Score:  0.4074074074074074\n"
     ]
    }
   ],
   "source": [
    "total = []\n",
    "total1 = []\n",
    "chk = []\n",
    "test = []\n",
    "pls = []\n",
    "\n",
    "for i in range(mid_close.shape[0]):\n",
    "    total_made = 0\n",
    "    #TRAINING DATA\n",
    "    price_i = mid_close.iloc[i]\n",
    "    overnight_i = rtxm_ti1.iloc[i, 1:]\n",
    "    intraday_i = rtxm_ti2.iloc[i,:-1]\n",
    "    volume_i = volume.iloc[i, :-1].map(lambda x: my_log(x), na_action=\"ignore\")\n",
    "    rsi_12 = RSI(rtxm_ti2.iloc[i], 12)[:-1]\n",
    "    macd_26_12_9 = MACD(price_i, 26, 12, 9)[:-1]\n",
    "    y = r_ti2.iloc[i, 1:].map(lambda x: sign(x), na_action=\"ignore\")\n",
    "    data = {'X1': np.array(overnight_i), 'X2': np.array(intraday_i), \"X3\": np.array(volume_i), \n",
    "            \"X4\": np.array(rsi_12), \"X5\": np.array(macd_26_12_9),\n",
    "            \"Y\": np.array(y)}\n",
    "    data_train = pd.DataFrame(data)\n",
    "    new_train = data_train.dropna()\n",
    "    temp = new_train.sample(frac=1).reset_index(drop=True)\n",
    "    X_train = temp[[\"X1\",\"X2\",\"X3\",\"X4\",\"X5\"]]\n",
    "    y_train = temp[[\"Y\"]]\n",
    "\n",
    "    #TESTING DATA\n",
    "    price_i_test = mid_close_test.iloc[i]\n",
    "    open_price_i_test = mid_open_test.iloc[i]\n",
    "    overnight_i_test = rtxm_ti1_test.iloc[i, 1:]\n",
    "    intraday_i_test = rtxm_ti2_test.iloc[i,:-1]\n",
    "    volume_i_test = volume_test.iloc[i, :-1].map(lambda x: my_log(x), na_action=\"ignore\")\n",
    "    rsi_12_test = RSI(rtxm_ti2_test.iloc[i], 12)[:-1]\n",
    "    macd_26_12_9_test = MACD(price_i_test, 26, 12, 9)[:-1]\n",
    "    y_test = r_ti2_test.iloc[i, 1:].map(lambda x: sign(x), na_action=\"ignore\")\n",
    "    data_test = {'X1': np.array(overnight_i_test), 'X2': np.array(intraday_i_test), \"X3\": np.array(volume_i_test), \n",
    "        \"X4\": np.array(rsi_12_test), \"X5\": np.array(macd_26_12_9_test),\n",
    "        \"Y\": np.array(y_test)}\n",
    "    data_test = pd.DataFrame(data_test, index=y_test.index)\n",
    "    new_test = data_test.dropna()\n",
    "    X_test = new_test[[\"X1\",\"X2\",\"X3\",\"X4\",\"X5\"]]  \n",
    "    y_test = new_test[[\"Y\"]]\n",
    "\n",
    "    #Train and Test individual models\n",
    "    if new_train.shape[0] > 100 and new_test.shape[0] > 100:\n",
    "        LR = LogisticRegression(max_iter=1000)\n",
    "\n",
    "        LR.fit(X_train, np.ravel(y_train))\n",
    "        total1.append((i, LR))\n",
    "        chk.append(LR.score(X_test, y_test))\n",
    "\n",
    "        signals = LR.predict(X_test)\n",
    "        count = 0\n",
    "\n",
    "        signal_dates = new_test.index\n",
    "\n",
    "        for j in range(len(signals)):\n",
    "            price1 = open_price_i_test.loc[signal_dates[j]]\n",
    "            price2 = price_i_test.loc[signal_dates[j]]\n",
    "            pls.append(int(price1 - price2 < 0) == np.array(y_test)[j][0])\n",
    "            #Short\n",
    "            if signals[j] == 0:\n",
    "                gain = price1 - price2\n",
    "                test.append(gain > 0)\n",
    "                total_made += gain\n",
    "            #Long\n",
    "            elif signals[j] == 1:\n",
    "                gain = price2 - price1\n",
    "                test.append(gain > 0)\n",
    "                total_made += gain\n",
    "        total.append(total_made)\n",
    "\n",
    "\n",
    "print(\"Proportion of correct labels: \", sum(pls)/len(pls))\n",
    "print(\"Proportion of correct guesses: \", sum(test)/len(test))\n",
    "print(\"Total Money Made: \", sum(total))\n",
    "print(\"\\n\")\n",
    "print(\"Mean Score: \", sum(chk)/len(chk))\n",
    "print(\"Max Score: \", max(chk))\n",
    "print(\"Min Score: \", min(chk))"
   ]
  },
  {
   "cell_type": "code",
   "execution_count": 17,
   "metadata": {},
   "outputs": [
    {
     "name": "stdout",
     "output_type": "stream",
     "text": [
      "0.5083207288154992 0.6514522821576764 0.4074074074074074\n"
     ]
    }
   ],
   "source": [
    "print(sum(chk)/len(chk), max(chk), min(chk))"
   ]
  },
  {
   "cell_type": "code",
   "execution_count": 18,
   "metadata": {},
   "outputs": [
    {
     "name": "stdout",
     "output_type": "stream",
     "text": [
      "Mean Score:  0.5083207288154992\n",
      "Max Score:  0.6514522821576764\n",
      "Min Score:  0.4074074074074074\n"
     ]
    }
   ],
   "source": [
    "print(\"Mean Score: \", sum(chk)/len(chk))\n",
    "print(\"Max Score: \", max(chk))\n",
    "print(\"Min Score: \", min(chk))"
   ]
  },
  {
   "cell_type": "code",
   "execution_count": 36,
   "metadata": {},
   "outputs": [
    {
     "data": {
      "text/plain": [
       "0.1151190161020845"
      ]
     },
     "execution_count": 36,
     "metadata": {},
     "output_type": "execute_result"
    }
   ],
   "source": [
    "sum(total) / mid_open_test.iloc[:,0].dropna().sum()"
   ]
  }
 ],
 "metadata": {
  "kernelspec": {
   "display_name": "ml-0451",
   "language": "python",
   "name": "python3"
  },
  "language_info": {
   "codemirror_mode": {
    "name": "ipython",
    "version": 3
   },
   "file_extension": ".py",
   "mimetype": "text/x-python",
   "name": "python",
   "nbconvert_exporter": "python",
   "pygments_lexer": "ipython3",
   "version": "3.9.18"
  }
 },
 "nbformat": 4,
 "nbformat_minor": 2
}
