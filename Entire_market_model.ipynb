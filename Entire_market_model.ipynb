{
 "cells": [
  {
   "cell_type": "code",
   "execution_count": 1,
   "metadata": {},
   "outputs": [],
   "source": [
    "import numpy as np\n",
    "import pandas as pd\n",
    "import matplotlib.pyplot as plt\n",
    "import seaborn as sns\n",
    "from sklearn.linear_model import LogisticRegression, LinearRegression"
   ]
  },
  {
   "cell_type": "code",
   "execution_count": 2,
   "metadata": {},
   "outputs": [],
   "source": [
    "%load_ext autoreload\n",
    "%autoreload 2\n",
    "from functions import loaddata, MACD, RSI\n",
    "from portfolio import Portfolio"
   ]
  },
  {
   "cell_type": "code",
   "execution_count": 4,
   "metadata": {},
   "outputs": [],
   "source": [
    "def sign(x):\n",
    "    if x > 0:\n",
    "        return 1\n",
    "    elif x < 0:\n",
    "        return 0\n",
    "    else:\n",
    "        return 2\n",
    "    \n",
    "def my_log(x):\n",
    "    if x != 0 and np.isnan(x) == False:\n",
    "        return np.log(x)\n",
    "    else:\n",
    "        return x"
   ]
  },
  {
   "cell_type": "code",
   "execution_count": 5,
   "metadata": {},
   "outputs": [],
   "source": [
    "start_date = 20180101\n",
    "end_date = 20190101\n",
    "rtxm_ti2 = loaddata(\"rtxm_ti2\", start_date, end_date)\n",
    "rtxm_ti1 = loaddata(\"rtxm_ti1\", start_date, end_date)\n",
    "r_ti2 = loaddata(\"r_ti2\", start_date, end_date)\n",
    "volume = loaddata(\"volall_day\", start_date, end_date)\n",
    "mid_close = loaddata(\"mid_close\", start_date, end_date)"
   ]
  },
  {
   "cell_type": "code",
   "execution_count": 43,
   "metadata": {},
   "outputs": [],
   "source": [
    "LR = LogisticRegression(max_iter=1000)"
   ]
  },
  {
   "cell_type": "code",
   "execution_count": 25,
   "metadata": {},
   "outputs": [],
   "source": [
    "total_X = []\n",
    "total_y = []\n",
    "total = []\n",
    "for i in range(mid_close.shape[0]):\n",
    "    price_i = mid_close.iloc[i]\n",
    "\n",
    "    overnight_i = rtxm_ti1.iloc[i, 1:]\n",
    "    intraday_i = rtxm_ti2.iloc[i,:-1]\n",
    "    volume_i = volume.iloc[i, :-1].map(lambda x: my_log(x), na_action=\"ignore\")\n",
    "\n",
    "    rsi_10 = RSI(rtxm_ti2.iloc[i], 10)[:-1]\n",
    "    rsi_12 = RSI(rtxm_ti2.iloc[i], 12)[:-1]\n",
    "    rsi_14 = RSI(rtxm_ti2.iloc[i], 14)[:-1]\n",
    "\n",
    "    macd_50_20_10 = MACD(price_i, 50, 20, 10)[:-1]\n",
    "    macd_26_12_9 = MACD(price_i, 26, 12, 9)[:-1]\n",
    "    macd_20_10_8 = MACD(price_i, 20, 10, 8)[:-1]\n",
    "    \n",
    "   \n",
    "    y = r_ti2.iloc[i, 1:].map(lambda x: sign(x), na_action=\"ignore\")\n",
    "\n",
    "    data = {'X1': np.array(overnight_i), 'X2': np.array(intraday_i), \"X3\": np.array(volume_i), \n",
    "            \"X4\": np.array(rsi_10), \"X5\": np.array(rsi_12), \"X6\": np.array(rsi_14),\n",
    "            \"X7\": np.array(macd_20_10_8), \"X8\": np.array(macd_26_12_9), \"X9\": np.array(macd_50_20_10),\n",
    "            \"Y\": np.array(y)}\n",
    "\n",
    "    data_train = pd.DataFrame(data)\n",
    "    new_train = data_train.dropna()\n",
    "\n",
    "    if new_train.shape[0] > 100:\n",
    "        total.append(new_train)\n",
    "\n",
    "final_df = pd.concat(total)"
   ]
  },
  {
   "cell_type": "code",
   "execution_count": 44,
   "metadata": {},
   "outputs": [
    {
     "name": "stderr",
     "output_type": "stream",
     "text": [
      "/Users/jameshetherington/anaconda3/envs/ml-0451/lib/python3.9/site-packages/sklearn/linear_model/_logistic.py:469: ConvergenceWarning: lbfgs failed to converge (status=1):\n",
      "STOP: TOTAL NO. of ITERATIONS REACHED LIMIT.\n",
      "\n",
      "Increase the number of iterations (max_iter) or scale the data as shown in:\n",
      "    https://scikit-learn.org/stable/modules/preprocessing.html\n",
      "Please also refer to the documentation for alternative solver options:\n",
      "    https://scikit-learn.org/stable/modules/linear_model.html#logistic-regression\n",
      "  n_iter_i = _check_optimize_result(\n"
     ]
    },
    {
     "data": {
      "text/plain": [
       "array([[ 2.60788796,  0.37172102, -0.05136446, -0.07533533,  0.20809874,\n",
       "        -0.13534321, -0.04334461, -0.1439645 ,  0.14889402],\n",
       "       [-2.60143746, -0.39885285, -0.05952417, -0.04213592,  0.12659379,\n",
       "        -0.0858193 , -0.20732114,  0.13041857, -0.09675979],\n",
       "       [-0.0064505 ,  0.02713183,  0.11088863,  0.11747126, -0.33469253,\n",
       "         0.22116251,  0.25066576,  0.01354593, -0.05213423]])"
      ]
     },
     "execution_count": 44,
     "metadata": {},
     "output_type": "execute_result"
    }
   ],
   "source": [
    "temp = final_df.sample(frac=1).reset_index(drop=True)\n",
    "final_x_training = temp[[\"X1\",\"X2\",\"X3\",\"X4\",\"X5\",\"X6\",\"X7\",\"X8\",\"X9\"]]\n",
    "final_y_training = temp[[\"Y\"]]\n",
    "LR.fit(final_x_training, np.ravel(final_y_training))\n",
    "LR.coef_"
   ]
  },
  {
   "cell_type": "code",
   "execution_count": 45,
   "metadata": {},
   "outputs": [
    {
     "name": "stdout",
     "output_type": "stream",
     "text": [
      "0.5435684647302904\n"
     ]
    }
   ],
   "source": [
    "start_date = 20190101\n",
    "end_date = 20200101\n",
    "rtxm_ti2_test = loaddata(\"rtxm_ti2\", start_date, end_date)\n",
    "rtxm_ti1_test = loaddata(\"rtxm_ti1\", start_date, end_date)\n",
    "r_ti2_test = loaddata(\"r_ti2\", start_date, end_date)\n",
    "volume_test = loaddata(\"volall_day\", start_date, end_date)\n",
    "mid_close_test = loaddata(\"mid_close\", start_date, end_date)\n",
    "\n",
    "chk = []\n",
    "for i in range(4000):\n",
    "    price_i_test = mid_close_test.iloc[i]\n",
    "\n",
    "    overnight_i_test = rtxm_ti1_test.iloc[i, 1:]\n",
    "    intraday_i_test = rtxm_ti2_test.iloc[i,:-1]\n",
    "    volume_i_test = volume_test.iloc[i, :-1].map(lambda x: my_log(x), na_action=\"ignore\")\n",
    "\n",
    "    rsi_10_test = RSI(rtxm_ti2_test.iloc[i], 10)[:-1]\n",
    "    rsi_12_test = RSI(rtxm_ti2_test.iloc[i], 12)[:-1]\n",
    "    rsi_14_test = RSI(rtxm_ti2_test.iloc[i], 14)[:-1]\n",
    "\n",
    "    macd_50_20_10_test = MACD(price_i_test, 50, 20, 10)[:-1]\n",
    "    macd_26_12_9_test = MACD(price_i_test, 26, 12, 9)[:-1]\n",
    "    macd_20_10_8_test = MACD(price_i_test, 20, 10, 8)[:-1]\n",
    "\n",
    "    y_test = r_ti2_test.iloc[i, 1:].map(lambda x: sign(x), na_action=\"ignore\")\n",
    "\n",
    "    data_test = {'X1': np.array(overnight_i_test), 'X2': np.array(intraday_i_test), \"X3\": np.array(volume_i_test), \n",
    "        \"X4\": np.array(rsi_10_test), \"X5\": np.array(rsi_12_test), \"X6\": np.array(rsi_14_test),\n",
    "        \"X7\": np.array(macd_20_10_8_test), \"X8\": np.array(macd_26_12_9_test), \"X9\": np.array(macd_50_20_10_test),\n",
    "        \"Y\": np.array(y_test)}\n",
    "\n",
    "    data_test = pd.DataFrame(data_test)\n",
    "    new_test = data_test.dropna()\n",
    "    X_test = new_test[[\"X1\",\"X2\",\"X3\",\"X4\",\"X5\",\"X6\",\"X7\",\"X8\",\"X9\"]]  \n",
    "    y_test = new_test[[\"Y\"]]\n",
    "    if X_test.shape[0] > 100:\n",
    "        chk.append(LR.score(X_test, y_test))"
   ]
  },
  {
   "cell_type": "code",
   "execution_count": 46,
   "metadata": {},
   "outputs": [
    {
     "name": "stdout",
     "output_type": "stream",
     "text": [
      "0.5214700336612658 0.6625514403292181 0.39090909090909093\n"
     ]
    }
   ],
   "source": [
    "print(sum(chk)/len(chk), max(chk), min(chk))"
   ]
  }
 ],
 "metadata": {
  "kernelspec": {
   "display_name": "ml-0451",
   "language": "python",
   "name": "python3"
  },
  "language_info": {
   "codemirror_mode": {
    "name": "ipython",
    "version": 3
   },
   "file_extension": ".py",
   "mimetype": "text/x-python",
   "name": "python",
   "nbconvert_exporter": "python",
   "pygments_lexer": "ipython3",
   "version": "3.9.18"
  }
 },
 "nbformat": 4,
 "nbformat_minor": 2
}
