{
 "cells": [
  {
   "cell_type": "code",
   "execution_count": 116,
   "metadata": {},
   "outputs": [
    {
     "name": "stdout",
     "output_type": "stream",
     "text": [
      "The autoreload extension is already loaded. To reload it, use:\n",
      "  %reload_ext autoreload\n"
     ]
    }
   ],
   "source": [
    "%load_ext autoreload\n",
    "%autoreload 2\n",
    "import numpy as np\n",
    "import pandas as pd\n",
    "import matplotlib.pyplot as plt\n",
    "from functions import loaddata\n",
    "from portfolio import Portfolio\n",
    "from model import Fin_model\n",
    "from financials import financials\n",
    "from financials import fin_handlers\n",
    "from sklearn.linear_model import LogisticRegression \n",
    "from sklearn.preprocessing import PolynomialFeatures\n",
    "# from sklearn.neighbors import KNeighborsClassifier\n",
    "# from sklearn.tree import DecisionTreeClassifier\n",
    "import warnings\n",
    "warnings.filterwarnings('ignore')"
   ]
  },
  {
   "cell_type": "markdown",
   "metadata": {},
   "source": [
    "Some note:\n",
    "\n",
    "The date is in year month day format\n",
    "ROWS = stocks\n",
    "COLS = dates"
   ]
  },
  {
   "cell_type": "code",
   "execution_count": 7,
   "metadata": {},
   "outputs": [
    {
     "name": "stdout",
     "output_type": "stream",
     "text": [
      "   asset_index  holdings  price  position\n",
      "1            1        30   26.0         0\n",
      "2            2        35   27.0         0\n"
     ]
    }
   ],
   "source": [
    "data = {'asset_index': [0, 1, 2, 3],\n",
    "        'holdings': [25, 30, 35, 45],\n",
    "        'price': [24.5, 26, 27, 39.2],\n",
    "        'position' : [1, 0, 0, 1]\n",
    "        }\n",
    "stock_data = pd.DataFrame(data)\n",
    "\n",
    "pred = [1, 1, 1, 1]\n",
    "\n",
    "diffs = stock_data[stock_data['position'] != pred]\n",
    "print(diffs)"
   ]
  },
  {
   "cell_type": "code",
   "execution_count": 292,
   "metadata": {},
   "outputs": [],
   "source": [
    "test = loaddata(\"mid_close\", 20180101, 20200101)"
   ]
  },
  {
   "cell_type": "code",
   "execution_count": 281,
   "metadata": {},
   "outputs": [
    {
     "name": "stdout",
     "output_type": "stream",
     "text": [
      "(5, 485)\n"
     ]
    }
   ],
   "source": [
    "\n",
    "asset_indices = [0, 1, 2, 3, 4]\n",
    "assets = test.iloc[asset_indices].dropna(axis = 1)\n",
    "num_assets = len(asset_indices)\n",
    "# start_cap = 1000\n",
    "# portfolio = Portfolio(asset_indices, start_cap)\n",
    "print(assets.shape)\n"
   ]
  },
  {
   "cell_type": "code",
   "execution_count": 138,
   "metadata": {},
   "outputs": [
    {
     "name": "stdout",
     "output_type": "stream",
     "text": [
      "           LB  EXPO AVG          UB          SNR  MOMENTUM\n",
      "0 -164.229633 -1.673290 -170.428361 -1741.911005 -0.008056\n",
      "1   -2.317385 -0.044866   -6.655886   -95.345727 -0.011445\n",
      "2  117.087895  1.159332  114.778423  8694.449630 -0.003030\n",
      "3   46.621733  0.454344   44.247129  3223.016173 -0.000721\n",
      "4  -47.355126 -0.492721  -51.189158 -1340.756432  0.001329\n",
      "5  -62.884940 -0.645205  -66.156012 -2412.000088  0.007960\n",
      "6  209.068830  2.060778  203.086728  2303.474663 -0.007759\n"
     ]
    }
   ],
   "source": [
    "residuals = financials.residual_returns(assets)\n",
    "slice = residuals.iloc[:, [1, 2, 3, 4, 5, 6, 7, 8, 9, 10]]\n",
    "# print(slice.iloc[:, np.arange(slice.shape[1] - 1)])\n",
    "feature_matrix = fin_handlers.create_features(slice, [financials.upper_boiler_band, financials.expo_moving_average, financials.lower_boiler_band, financials.signal_to_noise], labels = [\"LB\", \"EXPO AVG\", \"UB\", \"SNR\"])\n",
    "print(feature_matrix)\n"
   ]
  },
  {
   "cell_type": "code",
   "execution_count": 295,
   "metadata": {},
   "outputs": [],
   "source": [
    "\n",
    "fin_functions = [financials.expo_moving_average, financials.signal_to_noise, financials.lower_boiler_band, financials.upper_boiler_band] #financials.signal_to_noise\n",
    "model = Fin_model(LogisticRegression, fin_functions, feature_map = PolynomialFeatures)\n",
    "Delta = 10\n",
    "training_features, training_labels = model.get_sample_features(asset_indices, Delta, 15, assets)"
   ]
  },
  {
   "cell_type": "code",
   "execution_count": 296,
   "metadata": {},
   "outputs": [
    {
     "name": "stdout",
     "output_type": "stream",
     "text": [
      "doing some transformations!\n",
      "Accuracy on training data: 0.8888\n"
     ]
    }
   ],
   "source": [
    "#print(training_features)\n",
    "model.train_with_feature_map(asset_indices, Delta, assets, 250)\n",
    "\n",
    "#coefficients = model.model.coef_[0]\n",
    "feature_names = [\"LB\", \"EXPO AVG\", \"UB\", \"SNR\"]\n",
    "\n",
    "# Pair feature names with their corresponding coefficients\n",
    "# feature_coefficients = pd.DataFrame({'Feature': feature_names, 'Coefficient': coefficients})\n",
    "# print(feature_coefficients)"
   ]
  },
  {
   "cell_type": "code",
   "execution_count": 301,
   "metadata": {},
   "outputs": [],
   "source": [
    "test_data = loaddata(\"mid_close\", 20200101, 20210101)\n"
   ]
  },
  {
   "cell_type": "code",
   "execution_count": 302,
   "metadata": {},
   "outputs": [
    {
     "name": "stdout",
     "output_type": "stream",
     "text": [
      "(1080, 4)\n"
     ]
    }
   ],
   "source": [
    "test_data = test_data.iloc[asset_indices].dropna(axis = 1)\n",
    "test_features, test_labels = model.get_sequential_features(asset_indices, Delta, test_data)\n",
    "print(test_features.shape)"
   ]
  },
  {
   "cell_type": "code",
   "execution_count": 123,
   "metadata": {},
   "outputs": [
    {
     "name": "stdout",
     "output_type": "stream",
     "text": [
      "4796\n"
     ]
    },
    {
     "ename": "ValueError",
     "evalue": "X has 5 features, but LogisticRegression is expecting 56 features as input.",
     "output_type": "error",
     "traceback": [
      "\u001b[0;31m---------------------------------------------------------------------------\u001b[0m",
      "\u001b[0;31mValueError\u001b[0m                                Traceback (most recent call last)",
      "Cell \u001b[0;32mIn[123], line 3\u001b[0m\n\u001b[1;32m      1\u001b[0m \u001b[38;5;28mprint\u001b[39m(\u001b[38;5;28mlen\u001b[39m(test_labels))\n\u001b[1;32m      2\u001b[0m \u001b[38;5;28;01mfrom\u001b[39;00m \u001b[38;5;21;01msklearn\u001b[39;00m\u001b[38;5;21;01m.\u001b[39;00m\u001b[38;5;21;01mmetrics\u001b[39;00m \u001b[38;5;28;01mimport\u001b[39;00m accuracy_score\n\u001b[0;32m----> 3\u001b[0m preds \u001b[38;5;241m=\u001b[39m \u001b[43mmodel\u001b[49m\u001b[38;5;241;43m.\u001b[39;49m\u001b[43mmodel\u001b[49m\u001b[38;5;241;43m.\u001b[39;49m\u001b[43mpredict\u001b[49m\u001b[43m(\u001b[49m\u001b[43mtest_features\u001b[49m\u001b[43m)\u001b[49m\n\u001b[1;32m      4\u001b[0m accuracy \u001b[38;5;241m=\u001b[39m accuracy_score(test_features, preds)\n",
      "File \u001b[0;32m~/miniconda3/envs/ml-0451/lib/python3.9/site-packages/sklearn/linear_model/_base.py:351\u001b[0m, in \u001b[0;36mLinearClassifierMixin.predict\u001b[0;34m(self, X)\u001b[0m\n\u001b[1;32m    337\u001b[0m \u001b[38;5;250m\u001b[39m\u001b[38;5;124;03m\"\"\"\u001b[39;00m\n\u001b[1;32m    338\u001b[0m \u001b[38;5;124;03mPredict class labels for samples in X.\u001b[39;00m\n\u001b[1;32m    339\u001b[0m \n\u001b[0;32m   (...)\u001b[0m\n\u001b[1;32m    348\u001b[0m \u001b[38;5;124;03m    Vector containing the class labels for each sample.\u001b[39;00m\n\u001b[1;32m    349\u001b[0m \u001b[38;5;124;03m\"\"\"\u001b[39;00m\n\u001b[1;32m    350\u001b[0m xp, _ \u001b[38;5;241m=\u001b[39m get_namespace(X)\n\u001b[0;32m--> 351\u001b[0m scores \u001b[38;5;241m=\u001b[39m \u001b[38;5;28;43mself\u001b[39;49m\u001b[38;5;241;43m.\u001b[39;49m\u001b[43mdecision_function\u001b[49m\u001b[43m(\u001b[49m\u001b[43mX\u001b[49m\u001b[43m)\u001b[49m\n\u001b[1;32m    352\u001b[0m \u001b[38;5;28;01mif\u001b[39;00m \u001b[38;5;28mlen\u001b[39m(scores\u001b[38;5;241m.\u001b[39mshape) \u001b[38;5;241m==\u001b[39m \u001b[38;5;241m1\u001b[39m:\n\u001b[1;32m    353\u001b[0m     indices \u001b[38;5;241m=\u001b[39m xp\u001b[38;5;241m.\u001b[39mastype(scores \u001b[38;5;241m>\u001b[39m \u001b[38;5;241m0\u001b[39m, \u001b[38;5;28mint\u001b[39m)\n",
      "File \u001b[0;32m~/miniconda3/envs/ml-0451/lib/python3.9/site-packages/sklearn/linear_model/_base.py:332\u001b[0m, in \u001b[0;36mLinearClassifierMixin.decision_function\u001b[0;34m(self, X)\u001b[0m\n\u001b[1;32m    329\u001b[0m check_is_fitted(\u001b[38;5;28mself\u001b[39m)\n\u001b[1;32m    330\u001b[0m xp, _ \u001b[38;5;241m=\u001b[39m get_namespace(X)\n\u001b[0;32m--> 332\u001b[0m X \u001b[38;5;241m=\u001b[39m \u001b[38;5;28;43mself\u001b[39;49m\u001b[38;5;241;43m.\u001b[39;49m\u001b[43m_validate_data\u001b[49m\u001b[43m(\u001b[49m\u001b[43mX\u001b[49m\u001b[43m,\u001b[49m\u001b[43m \u001b[49m\u001b[43maccept_sparse\u001b[49m\u001b[38;5;241;43m=\u001b[39;49m\u001b[38;5;124;43m\"\u001b[39;49m\u001b[38;5;124;43mcsr\u001b[39;49m\u001b[38;5;124;43m\"\u001b[39;49m\u001b[43m,\u001b[49m\u001b[43m \u001b[49m\u001b[43mreset\u001b[49m\u001b[38;5;241;43m=\u001b[39;49m\u001b[38;5;28;43;01mFalse\u001b[39;49;00m\u001b[43m)\u001b[49m\n\u001b[1;32m    333\u001b[0m scores \u001b[38;5;241m=\u001b[39m safe_sparse_dot(X, \u001b[38;5;28mself\u001b[39m\u001b[38;5;241m.\u001b[39mcoef_\u001b[38;5;241m.\u001b[39mT, dense_output\u001b[38;5;241m=\u001b[39m\u001b[38;5;28;01mTrue\u001b[39;00m) \u001b[38;5;241m+\u001b[39m \u001b[38;5;28mself\u001b[39m\u001b[38;5;241m.\u001b[39mintercept_\n\u001b[1;32m    334\u001b[0m \u001b[38;5;28;01mreturn\u001b[39;00m xp\u001b[38;5;241m.\u001b[39mreshape(scores, (\u001b[38;5;241m-\u001b[39m\u001b[38;5;241m1\u001b[39m,)) \u001b[38;5;28;01mif\u001b[39;00m scores\u001b[38;5;241m.\u001b[39mshape[\u001b[38;5;241m1\u001b[39m] \u001b[38;5;241m==\u001b[39m \u001b[38;5;241m1\u001b[39m \u001b[38;5;28;01melse\u001b[39;00m scores\n",
      "File \u001b[0;32m~/miniconda3/envs/ml-0451/lib/python3.9/site-packages/sklearn/base.py:654\u001b[0m, in \u001b[0;36mBaseEstimator._validate_data\u001b[0;34m(self, X, y, reset, validate_separately, cast_to_ndarray, **check_params)\u001b[0m\n\u001b[1;32m    651\u001b[0m     out \u001b[38;5;241m=\u001b[39m X, y\n\u001b[1;32m    653\u001b[0m \u001b[38;5;28;01mif\u001b[39;00m \u001b[38;5;129;01mnot\u001b[39;00m no_val_X \u001b[38;5;129;01mand\u001b[39;00m check_params\u001b[38;5;241m.\u001b[39mget(\u001b[38;5;124m\"\u001b[39m\u001b[38;5;124mensure_2d\u001b[39m\u001b[38;5;124m\"\u001b[39m, \u001b[38;5;28;01mTrue\u001b[39;00m):\n\u001b[0;32m--> 654\u001b[0m     \u001b[38;5;28;43mself\u001b[39;49m\u001b[38;5;241;43m.\u001b[39;49m\u001b[43m_check_n_features\u001b[49m\u001b[43m(\u001b[49m\u001b[43mX\u001b[49m\u001b[43m,\u001b[49m\u001b[43m \u001b[49m\u001b[43mreset\u001b[49m\u001b[38;5;241;43m=\u001b[39;49m\u001b[43mreset\u001b[49m\u001b[43m)\u001b[49m\n\u001b[1;32m    656\u001b[0m \u001b[38;5;28;01mreturn\u001b[39;00m out\n",
      "File \u001b[0;32m~/miniconda3/envs/ml-0451/lib/python3.9/site-packages/sklearn/base.py:443\u001b[0m, in \u001b[0;36mBaseEstimator._check_n_features\u001b[0;34m(self, X, reset)\u001b[0m\n\u001b[1;32m    440\u001b[0m     \u001b[38;5;28;01mreturn\u001b[39;00m\n\u001b[1;32m    442\u001b[0m \u001b[38;5;28;01mif\u001b[39;00m n_features \u001b[38;5;241m!=\u001b[39m \u001b[38;5;28mself\u001b[39m\u001b[38;5;241m.\u001b[39mn_features_in_:\n\u001b[0;32m--> 443\u001b[0m     \u001b[38;5;28;01mraise\u001b[39;00m \u001b[38;5;167;01mValueError\u001b[39;00m(\n\u001b[1;32m    444\u001b[0m         \u001b[38;5;124mf\u001b[39m\u001b[38;5;124m\"\u001b[39m\u001b[38;5;124mX has \u001b[39m\u001b[38;5;132;01m{\u001b[39;00mn_features\u001b[38;5;132;01m}\u001b[39;00m\u001b[38;5;124m features, but \u001b[39m\u001b[38;5;132;01m{\u001b[39;00m\u001b[38;5;28mself\u001b[39m\u001b[38;5;241m.\u001b[39m\u001b[38;5;18m__class__\u001b[39m\u001b[38;5;241m.\u001b[39m\u001b[38;5;18m__name__\u001b[39m\u001b[38;5;132;01m}\u001b[39;00m\u001b[38;5;124m \u001b[39m\u001b[38;5;124m\"\u001b[39m\n\u001b[1;32m    445\u001b[0m         \u001b[38;5;124mf\u001b[39m\u001b[38;5;124m\"\u001b[39m\u001b[38;5;124mis expecting \u001b[39m\u001b[38;5;132;01m{\u001b[39;00m\u001b[38;5;28mself\u001b[39m\u001b[38;5;241m.\u001b[39mn_features_in_\u001b[38;5;132;01m}\u001b[39;00m\u001b[38;5;124m features as input.\u001b[39m\u001b[38;5;124m\"\u001b[39m\n\u001b[1;32m    446\u001b[0m     )\n",
      "\u001b[0;31mValueError\u001b[0m: X has 5 features, but LogisticRegression is expecting 56 features as input."
     ]
    }
   ],
   "source": [
    "print(len(test_labels))\n",
    "from sklearn.metrics import accuracy_score\n",
    "preds = model.model.predict(test_features)\n",
    "accuracy = accuracy_score(test_features, preds)"
   ]
  },
  {
   "cell_type": "code",
   "execution_count": 305,
   "metadata": {},
   "outputs": [
    {
     "data": {
      "text/plain": [
       "Text(0.5, 1.0, 'Portfolio Value with FlipR Lite')"
      ]
     },
     "execution_count": 305,
     "metadata": {},
     "output_type": "execute_result"
    },
    {
     "data": {
      "image/png": "[encoded data removed]",
      "text/plain": [
       "<Figure size 640x480 with 1 Axes>"
      ]
     },
     "metadata": {},
     "output_type": "display_data"
    }
   ],
   "source": [
    "portfolio = Portfolio(asset_indices, 1000)\n",
    "num_days = test_data.shape[1]\n",
    "days = test_data.columns.tolist()\n",
    "time_step = 1\n",
    "day = 11\n",
    "decision_data = pd.DataFrame()\n",
    "decision_data[\"asset_index\"] = asset_indices\n",
    "values = []\n",
    "\n",
    "while day < num_days - 1:\n",
    "    \n",
    "    #print(portfolio.value) # def predict(self, day, Delta, asset_indices, data_matrix):\n",
    "    decision_data[\"price\"] = test_data.loc[asset_indices, days[day]]\n",
    "    preds = model.predict_with_feature_map(day, Delta, asset_indices, test_data)\n",
    "    decision_data[\"position\"] = preds\n",
    "    portfolio.update(decision_data)\n",
    "    day += time_step\n",
    "    values.append(portfolio.value)\n",
    "\n",
    "#print(portfolio.value) # def predict(self, day, Delta, asset_indices, data_matrix):\n",
    "decision_data[\"price\"] = test_data.loc[asset_indices, days[day]]\n",
    "preds = 2 * np.ones(len(asset_indices))\n",
    "decision_data[\"position\"] = preds\n",
    "portfolio.update(decision_data)\n",
    "values.append(portfolio.value)\n",
    "day += time_step\n",
    "\n",
    "\n",
    "iters = np.arange(0, len(values))\n",
    "plt.plot(iters, values)\n",
    "plt.xlabel(\"Time Stamp\", fontname = \"Courier New\")\n",
    "plt.ylabel(\"Portfolio Value\", fontname = \"Courier New\")\n",
    "plt.title(\"Portfolio Value with FlipR Lite\", fontname = \"Courier New\")"
   ]
  },
  {
   "cell_type": "code",
   "execution_count": 304,
   "metadata": {},
   "outputs": [
    {
     "name": "stdout",
     "output_type": "stream",
     "text": [
      "1535.0999026298518\n",
      "0.5350999026298519\n"
     ]
    }
   ],
   "source": [
    "print(portfolio.value)\n",
    "print((portfolio.value - 1000)/1000)\n"
   ]
  }
 ],
 "metadata": {
  "kernelspec": {
   "display_name": "ml-0451",
   "language": "python",
   "name": "python3"
  },
  "language_info": {
   "codemirror_mode": {
    "name": "ipython",
    "version": 3
   },
   "file_extension": ".py",
   "mimetype": "text/x-python",
   "name": "python",
   "nbconvert_exporter": "python",
   "pygments_lexer": "ipython3",
   "version": "3.9.18"
  }
 },
 "nbformat": 4,
 "nbformat_minor": 2
}
