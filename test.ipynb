{
 "cells": [
  {
   "cell_type": "code",
   "execution_count": 89,
   "metadata": {},
   "outputs": [],
   "source": [
    "import numpy as np\n",
    "import pandas as pd\n",
    "import matplotlib.pyplot as plt\n",
    "import seaborn as sns\n",
    "from sklearn.linear_model import LogisticRegression, LinearRegression\n",
    "from sklearn.metrics import log_loss\n",
    "from sklearn.preprocessing import PolynomialFeatures\n",
    "poly = PolynomialFeatures(2)"
   ]
  },
  {
   "cell_type": "code",
   "execution_count": 90,
   "metadata": {},
   "outputs": [
    {
     "name": "stdout",
     "output_type": "stream",
     "text": [
      "The autoreload extension is already loaded. To reload it, use:\n",
      "  %reload_ext autoreload\n"
     ]
    }
   ],
   "source": [
    "%load_ext autoreload\n",
    "%autoreload 2\n",
    "from functions import loaddata, MACD, RSI\n",
    "from portfolio import Portfolio"
   ]
  },
  {
   "cell_type": "code",
   "execution_count": 91,
   "metadata": {},
   "outputs": [],
   "source": [
    "def sign(x):\n",
    "    if x > 0:\n",
    "        return 1\n",
    "    elif x < 0:\n",
    "        return 0\n",
    "    else:\n",
    "        return 2\n",
    "    \n",
    "def my_log(x):\n",
    "    if x != 0 and np.isnan(x) == False:\n",
    "        return np.log(x)\n",
    "    else:\n",
    "        return x"
   ]
  },
  {
   "cell_type": "code",
   "execution_count": 92,
   "metadata": {},
   "outputs": [
    {
     "name": "stderr",
     "output_type": "stream",
     "text": [
      "/Users/jameshetherington/anaconda3/envs/ml-0451/lib/python3.9/site-packages/sklearn/linear_model/_logistic.py:469: ConvergenceWarning: lbfgs failed to converge (status=1):\n",
      "STOP: TOTAL NO. of ITERATIONS REACHED LIMIT.\n",
      "\n",
      "Increase the number of iterations (max_iter) or scale the data as shown in:\n",
      "    https://scikit-learn.org/stable/modules/preprocessing.html\n",
      "Please also refer to the documentation for alternative solver options:\n",
      "    https://scikit-learn.org/stable/modules/linear_model.html#logistic-regression\n",
      "  n_iter_i = _check_optimize_result(\n"
     ]
    },
    {
     "name": "stdout",
     "output_type": "stream",
     "text": [
      "Mean Score:  0.5238093576955263\n",
      "Max Score:  0.6584362139917695\n",
      "Min Score:  0.39090909090909093\n",
      "Proportion of correct labels:  0.9472727502676028\n",
      "Proportion of correct guesses:  0.5058228773717777\n",
      "Total Money Made:  11999.027628168433\n",
      "Initial Funds:  40712.52499175072\n",
      "YoY:  0.2947257049421452\n"
     ]
    }
   ],
   "source": [
    "start_date = 20180101\n",
    "end_date = 20190101\n",
    "rtxm_ti2 = loaddata(\"rtxm_ti2\", start_date, end_date)\n",
    "rtxm_ti1 = loaddata(\"rtxm_ti1\", start_date, end_date)\n",
    "r_ti1 = loaddata(\"r_ti1\", start_date, end_date)\n",
    "r_ti2 = loaddata(\"r_ti2\", start_date, end_date)\n",
    "volume = loaddata(\"volall_day\", start_date, end_date)\n",
    "mid_open = loaddata(\"mid_open\", start_date, end_date)\n",
    "mid_close = loaddata(\"mid_close\", start_date, end_date)\n",
    "\n",
    "start_date1 = 20190101\n",
    "end_date1 = 20200101\n",
    "rtxm_ti2_test = loaddata(\"rtxm_ti2\", start_date1, end_date1)\n",
    "rtxm_ti1_test = loaddata(\"rtxm_ti1\", start_date1, end_date1)\n",
    "r_ti1_test = loaddata(\"r_ti1\", start_date1, end_date1)\n",
    "r_ti2_test = loaddata(\"r_ti2\", start_date1, end_date1)\n",
    "volume_test = loaddata(\"volall_day\", start_date1, end_date1)\n",
    "mid_close_test = loaddata(\"mid_close\", start_date1, end_date1)\n",
    "mid_open_test = loaddata(\"mid_open\", start_date1, end_date1)\n",
    "\n",
    "total = []\n",
    "for i in range(mid_close.shape[0]):\n",
    "    price_i = mid_close.iloc[i]\n",
    "\n",
    "    overnight_i = rtxm_ti1.iloc[i, 1:]\n",
    "    intraday_i = rtxm_ti2.iloc[i,:-1]\n",
    "    volume_i = volume.iloc[i, :-1].map(lambda x: my_log(x), na_action=\"ignore\")\n",
    "\n",
    "    rsi_12 = RSI(rtxm_ti2.iloc[i], 12)[:-1]\n",
    "\n",
    "    macd_26_12_9 = MACD(price_i, 26, 12, 9)[:-1]\n",
    "   \n",
    "    y = r_ti2.iloc[i, 1:].map(lambda x: sign(x), na_action=\"ignore\")\n",
    "\n",
    "    data = {'X1': np.array(overnight_i), 'X2': np.array(intraday_i), \"X3\": np.array(volume_i), \n",
    "            \"X4\": np.array(rsi_12), \"X5\": np.array(macd_26_12_9),\n",
    "            \"Y\": np.array(y)}\n",
    "\n",
    "    data_train = pd.DataFrame(data)\n",
    "    new_train = data_train.dropna()\n",
    "\n",
    "    if new_train.shape[0] > 100:\n",
    "        total.append(new_train)\n",
    "\n",
    "final_df = pd.concat(total)\n",
    "\n",
    "LR = LogisticRegression(max_iter=1000)\n",
    "temp = final_df.sample(frac=1).reset_index(drop=True)\n",
    "final_x_training = temp[[\"X1\",\"X2\",\"X3\",\"X4\",\"X5\"]]\n",
    "final_y_training = temp[[\"Y\"]]\n",
    "attempt = poly.fit_transform(final_x_training)\n",
    "LR.fit(attempt, np.ravel(final_y_training))\n",
    "\n",
    "total = []\n",
    "test = []\n",
    "pls = []\n",
    "chk = []\n",
    "for i in range(mid_close_test.shape[0]):\n",
    "    total_made = 0\n",
    "    \n",
    "    price_i_test = mid_close_test.iloc[i]\n",
    "    open_price_i_test = mid_open_test.iloc[i]\n",
    "    overnight_i_test = rtxm_ti1_test.iloc[i, 1:]\n",
    "    intraday_i_test = rtxm_ti2_test.iloc[i,:-1]\n",
    "    volume_i_test = volume_test.iloc[i, :-1].map(lambda x: my_log(x), na_action=\"ignore\")\n",
    "\n",
    "    rsi_12_test = RSI(rtxm_ti2_test.iloc[i], 12)[:-1]\n",
    "\n",
    "    macd_26_12_9_test = MACD(price_i_test, 26, 12, 9)[:-1]\n",
    "\n",
    "    y_test = r_ti2_test.iloc[i, 1:].map(lambda x: sign(x), na_action=\"ignore\")\n",
    "\n",
    "    data_test = {'X1': np.array(overnight_i_test), 'X2': np.array(intraday_i_test), \"X3\": np.array(volume_i_test), \n",
    "        \"X4\": np.array(rsi_12_test), \"X5\": np.array(macd_26_12_9_test),\n",
    "        \"Y\": np.array(y_test)}\n",
    "\n",
    "    data_test = pd.DataFrame(data_test, index=y_test.index)\n",
    "\n",
    "    new_test = data_test.dropna()\n",
    "    X_test = new_test[[\"X1\",\"X2\",\"X3\",\"X4\",\"X5\"]]  \n",
    "    y_test = new_test[[\"Y\"]]\n",
    "    \n",
    "    if X_test.shape[0] > 100:\n",
    "        x_test = poly.fit_transform(X_test)\n",
    "        chk.append(LR.score(x_test, y_test))\n",
    "        signals = LR.predict(x_test)\n",
    "        count = 0\n",
    "\n",
    "        signal_dates = new_test.index\n",
    "\n",
    "        for j in range(len(signals)):\n",
    "            price1 = open_price_i_test.loc[signal_dates[j]]\n",
    "            price2 = price_i_test.loc[signal_dates[j]]\n",
    "            pls.append(int(price1 - price2 < 0) == np.array(y_test)[j][0])\n",
    "            #Short\n",
    "            if signals[j] == 0:\n",
    "                gain = price1 - price2\n",
    "                test.append(gain > 0)\n",
    "                total_made += gain\n",
    "            #Long\n",
    "            elif signals[j] == 1:\n",
    "                gain = price2 - price1\n",
    "                test.append(gain > 0)\n",
    "                total_made += gain\n",
    "        total.append(total_made)\n",
    "\n",
    "print(\"Mean Score: \", sum(chk)/len(chk))\n",
    "print(\"Max Score: \", max(chk))\n",
    "print(\"Min Score: \", min(chk))\n",
    "print(\"Proportion of correct labels: \", sum(pls)/len(pls))\n",
    "print(\"Proportion of correct guesses: \", sum(test)/len(test))\n",
    "print(\"Total Money Made: \", sum(total))\n",
    "print(\"Initial Funds: \", mid_open_test.iloc[:,0].dropna().sum())\n",
    "print(\"YoY: \", sum(total) / mid_open_test.iloc[:,0].dropna().sum())\n"
   ]
  },
  {
   "cell_type": "code",
   "execution_count": 72,
   "metadata": {},
   "outputs": [
    {
     "data": {
      "text/plain": [
       "array([[ 2.02891295e-06,  4.09201138e-07,  1.07148323e-07,\n",
       "         2.14357293e-05,  4.65322478e-05, -3.88921596e-07,\n",
       "         4.85051079e-09,  1.26894515e-10,  5.85301728e-06,\n",
       "         1.93706770e-05,  2.65476606e-09, -3.56003423e-09,\n",
       "         2.03914192e-06,  3.48452847e-06,  1.84046148e-08,\n",
       "         1.79189035e-04,  3.55432274e-04, -3.98862449e-06,\n",
       "         8.63069045e-04, -1.13640238e-05,  1.86320594e-06,\n",
       "         4.68513525e-11,  1.85071077e-11,  7.38440934e-08,\n",
       "         2.46809448e-07, -1.46214582e-10,  4.29382119e-11,\n",
       "        -1.59870601e-10,  1.88688025e-08, -3.58295965e-10,\n",
       "         8.38349874e-05,  2.75469656e-04,  4.57001784e-08,\n",
       "         9.83866180e-04,  1.29693989e-07,  2.50040375e-09,\n",
       "         1.72538666e-10, -5.80634317e-08, -1.74981580e-07,\n",
       "         9.06822630e-10,  3.77726977e-05,  7.50143117e-05,\n",
       "         2.71736013e-07,  1.00303058e-04,  1.27713965e-06,\n",
       "        -1.20127231e-08,  3.78008156e-04, -1.12542597e-04,\n",
       "        -3.09821568e-05, -2.62195120e-05, -7.91698368e-05,\n",
       "         2.53260135e-05, -2.81954301e-06,  3.62315230e-05,\n",
       "         1.07805806e-04, -2.97210237e-05],\n",
       "       [ 2.27456738e-06, -4.01609385e-07, -1.08414276e-07,\n",
       "         2.24620960e-05,  5.26504076e-05, -1.91938652e-07,\n",
       "        -3.68677881e-09, -4.77918118e-10, -5.76480615e-06,\n",
       "        -1.94174459e-05, -6.19762595e-09,  9.23689781e-09,\n",
       "        -1.89529904e-06, -1.72007071e-06, -1.10581443e-08,\n",
       "         1.75411170e-04,  3.70348843e-04, -3.87908189e-06,\n",
       "         9.69515982e-04, -5.37965411e-07,  8.94394046e-07,\n",
       "        -5.04856780e-11, -4.87605067e-12, -5.62129085e-08,\n",
       "        -1.86312688e-07,  7.37488326e-11, -5.72080316e-11,\n",
       "        -5.45217393e-09, -4.33083313e-08,  3.40167209e-10,\n",
       "        -8.29075019e-05, -2.77787241e-04, -9.97950555e-08,\n",
       "        -1.01077251e-03, -3.12031823e-07, -1.35840362e-09,\n",
       "        -4.13266013e-11,  1.46509349e-07,  4.95807668e-07,\n",
       "        -9.69471400e-10, -3.29404944e-05, -3.91823004e-05,\n",
       "        -1.57354364e-07,  8.23991598e-05, -9.52338559e-07,\n",
       "         1.12058243e-08,  3.88691904e-04, -1.01584898e-04,\n",
       "        -7.49693737e-05, -4.07169592e-05, -6.68289702e-05,\n",
       "         1.51728848e-05, -1.74288284e-06, -1.05385864e-07,\n",
       "         2.50553043e-05,  2.40453647e-05],\n",
       "       [-4.30348033e-06, -7.59175225e-09,  1.26595314e-09,\n",
       "        -4.38978253e-05, -9.91826554e-05,  5.80860248e-07,\n",
       "        -1.16373198e-09,  3.51023602e-10, -8.82111277e-08,\n",
       "         4.67689106e-08,  3.54285989e-09, -5.67686358e-09,\n",
       "        -1.43842879e-07, -1.76445776e-06, -7.34647053e-09,\n",
       "        -3.54600206e-04, -7.25781117e-04,  7.86770638e-06,\n",
       "        -1.83258503e-03,  1.19019892e-05, -2.75759999e-06,\n",
       "         3.63432544e-12, -1.36310570e-11, -1.76311849e-08,\n",
       "        -6.04967599e-08,  7.24657499e-11,  1.42698196e-11,\n",
       "         5.61204453e-09,  2.44395288e-08,  1.81287556e-11,\n",
       "        -9.27485565e-07,  2.31758539e-06,  5.40948771e-08,\n",
       "         2.69063259e-05,  1.82337834e-07, -1.14200013e-09,\n",
       "        -1.31212065e-10, -8.84459172e-08, -3.20826088e-07,\n",
       "         6.26487703e-11, -4.83220330e-06, -3.58320114e-05,\n",
       "        -1.14381649e-07, -1.82702218e-04, -3.24801091e-07,\n",
       "         8.06898764e-10, -7.66700060e-04,  2.14127495e-04,\n",
       "         1.05951531e-04,  6.69364712e-05,  1.45998807e-04,\n",
       "        -4.04988983e-05,  4.56242584e-06, -3.61261371e-05,\n",
       "        -1.32861110e-04,  5.67565901e-06]])"
      ]
     },
     "execution_count": 72,
     "metadata": {},
     "output_type": "execute_result"
    }
   ],
   "source": [
    "LR.coef_"
   ]
  },
  {
   "cell_type": "code",
   "execution_count": 83,
   "metadata": {},
   "outputs": [
    {
     "data": {
      "text/plain": [
       "1"
      ]
     },
     "execution_count": 83,
     "metadata": {},
     "output_type": "execute_result"
    }
   ],
   "source": []
  }
 ],
 "metadata": {
  "kernelspec": {
   "display_name": "ml-0451",
   "language": "python",
   "name": "python3"
  },
  "language_info": {
   "codemirror_mode": {
    "name": "ipython",
    "version": 3
   },
   "file_extension": ".py",
   "mimetype": "text/x-python",
   "name": "python",
   "nbconvert_exporter": "python",
   "pygments_lexer": "ipython3",
   "version": "3.9.18"
  }
 },
 "nbformat": 4,
 "nbformat_minor": 2
}
