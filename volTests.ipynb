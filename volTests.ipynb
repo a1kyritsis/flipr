{
 "cells": [
  {
   "cell_type": "code",
   "execution_count": 3,
   "metadata": {},
   "outputs": [],
   "source": [
    "%load_ext autoreload\n",
    "%autoreload 2\n",
    "import numpy as np\n",
    "import pandas as pd\n",
    "import matplotlib.pyplot as plt\n",
    "from functions import loaddata\n",
    "from portfolio import Portfolio\n",
    "from model import Fin_model\n",
    "from financials import financials\n",
    "from financials import fin_handlers"
   ]
  },
  {
   "cell_type": "code",
   "execution_count": 6,
   "metadata": {},
   "outputs": [],
   "source": [
    "vol_data = loaddata(\"volall_day\", 20190101, 20200101)"
   ]
  },
  {
   "cell_type": "code",
   "execution_count": 8,
   "metadata": {},
   "outputs": [
    {
     "name": "stdout",
     "output_type": "stream",
     "text": [
      "    20190102   20190103   20190104   20190107   20190108   20190109  \\\n",
      "0  1792601.0  1074014.0  1677843.0  3433519.0  2866302.0  2798860.0   \n",
      "\n",
      "    20190110   20190111   20190114   20190115  ...   20191218   20191219  \\\n",
      "0  2156301.0  3647733.0  2494764.0  1911322.0  ...  2084151.0  1878278.0   \n",
      "\n",
      "    20191220   20191223   20191224   20191225    20191226    20191227  \\\n",
      "0  2105194.0  2180623.0  1665061.0  2470425.0  15504732.0  14762020.0   \n",
      "\n",
      "    20191230   20191231  \n",
      "0  7780619.0  5276425.0  \n",
      "\n",
      "[1 rows x 244 columns]\n"
     ]
    }
   ],
   "source": [
    "asset_indices = [0]\n",
    "vol_data = vol_data.iloc[asset_indices].dropna(axis = 1)\n",
    "print(vol_data.head())"
   ]
  }
 ],
 "metadata": {
  "kernelspec": {
   "display_name": "ml-0451",
   "language": "python",
   "name": "python3"
  },
  "language_info": {
   "codemirror_mode": {
    "name": "ipython",
    "version": 3
   },
   "file_extension": ".py",
   "mimetype": "text/x-python",
   "name": "python",
   "nbconvert_exporter": "python",
   "pygments_lexer": "ipython3",
   "version": "3.9.18"
  }
 },
 "nbformat": 4,
 "nbformat_minor": 2
}
