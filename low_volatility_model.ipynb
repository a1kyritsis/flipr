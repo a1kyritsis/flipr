{
 "cells": [
  {
   "cell_type": "code",
   "execution_count": 1,
   "metadata": {},
   "outputs": [],
   "source": [
    "import numpy as np\n",
    "import pandas as pd\n",
    "import matplotlib.pyplot as plt\n",
    "import seaborn as sns\n",
    "from sklearn.linear_model import LogisticRegression, LinearRegression"
   ]
  },
  {
   "cell_type": "code",
   "execution_count": 2,
   "metadata": {},
   "outputs": [],
   "source": [
    "%load_ext autoreload\n",
    "%autoreload 2\n",
    "from functions import loaddata, MACD, RSI\n",
    "from portfolio import Portfolio"
   ]
  },
  {
   "cell_type": "code",
   "execution_count": 3,
   "metadata": {},
   "outputs": [],
   "source": [
    "def sign(x):\n",
    "    if x > 0:\n",
    "        return 1\n",
    "    elif x < 0:\n",
    "        return 0\n",
    "    else:\n",
    "        return 2\n",
    "    \n",
    "def my_log(x):\n",
    "    if x != 0 and np.isnan(x) == False:\n",
    "        return np.log(x)\n",
    "    else:\n",
    "        return x"
   ]
  },
  {
   "cell_type": "code",
   "execution_count": 4,
   "metadata": {},
   "outputs": [],
   "source": [
    "start_date = 20180101\n",
    "end_date = 20190101\n",
    "rtxm_ti2 = loaddata(\"rtxm_ti2\", start_date, end_date)\n",
    "rtxm_ti1 = loaddata(\"rtxm_ti1\", start_date, end_date)\n",
    "r_ti2 = loaddata(\"r_ti2\", start_date, end_date)\n",
    "volume = loaddata(\"volall_day\", start_date, end_date)\n",
    "mid_close = loaddata(\"mid_close\", start_date, end_date)\n",
    "risk = loaddata(\"bfast_totrisk\", start_date, end_date)"
   ]
  },
  {
   "cell_type": "code",
   "execution_count": 16,
   "metadata": {},
   "outputs": [],
   "source": [
    "average_risk = risk.mean(axis=1, skipna=True).dropna()\n",
    "bottom_third = average_risk.quantile(.3333)\n",
    "bottom_third_companies = average_risk[average_risk < bottom_third].index"
   ]
  },
  {
   "cell_type": "code",
   "execution_count": 18,
   "metadata": {},
   "outputs": [],
   "source": [
    "total = []\n",
    "for i in bottom_third_companies:\n",
    "    price_i = mid_close.iloc[i]\n",
    "\n",
    "    overnight_i = rtxm_ti1.iloc[i, 1:]\n",
    "    intraday_i = rtxm_ti2.iloc[i,:-1]\n",
    "    volume_i = volume.iloc[i, :-1].map(lambda x: my_log(x), na_action=\"ignore\")\n",
    "\n",
    "    rsi_12 = RSI(rtxm_ti2.iloc[i], 12)[:-1]\n",
    "\n",
    "    macd_26_12_9 = MACD(price_i, 26, 12, 9)[:-1]\n",
    "   \n",
    "    y = r_ti2.iloc[i, 1:].map(lambda x: sign(x), na_action=\"ignore\")\n",
    "\n",
    "    data = {'X1': np.array(overnight_i), 'X2': np.array(intraday_i), \"X3\": np.array(volume_i), \n",
    "            \"X4\": np.array(rsi_12), \"X5\": np.array(macd_26_12_9),\n",
    "            \"Y\": np.array(y)}\n",
    "\n",
    "    data_train = pd.DataFrame(data)\n",
    "    new_train = data_train.dropna()\n",
    "\n",
    "    if new_train.shape[0] > 100:\n",
    "        total.append(new_train)\n",
    "\n",
    "final_df = pd.concat(total)"
   ]
  },
  {
   "cell_type": "code",
   "execution_count": 19,
   "metadata": {},
   "outputs": [
    {
     "data": {
      "text/plain": [
       "array([[ 8.87829533e+00,  1.60371126e+00, -4.66704502e-02,\n",
       "        -1.32557914e-03,  5.86633663e-02],\n",
       "       [-8.65992993e+00, -9.42983278e-01, -6.33651531e-02,\n",
       "         5.82856820e-05, -9.74385558e-02],\n",
       "       [-2.18365398e-01, -6.60727982e-01,  1.10035603e-01,\n",
       "         1.26729346e-03,  3.87751895e-02]])"
      ]
     },
     "execution_count": 19,
     "metadata": {},
     "output_type": "execute_result"
    }
   ],
   "source": [
    "LR = LogisticRegression(max_iter=1000)\n",
    "temp = final_df.sample(frac=1).reset_index(drop=True)\n",
    "final_x_training = temp[[\"X1\",\"X2\",\"X3\",\"X4\",\"X5\"]]\n",
    "final_y_training = temp[[\"Y\"]]\n",
    "LR.fit(final_x_training, np.ravel(final_y_training))\n",
    "LR.coef_"
   ]
  },
  {
   "cell_type": "code",
   "execution_count": 20,
   "metadata": {},
   "outputs": [
    {
     "name": "stdout",
     "output_type": "stream",
     "text": [
      "0.5244614713384114 0.6790123456790124 0.42083333333333334\n"
     ]
    }
   ],
   "source": [
    "start_date = 20190101\n",
    "end_date = 20200101\n",
    "rtxm_ti2_test = loaddata(\"rtxm_ti2\", start_date, end_date)\n",
    "rtxm_ti1_test = loaddata(\"rtxm_ti1\", start_date, end_date)\n",
    "r_ti2_test = loaddata(\"r_ti2\", start_date, end_date)\n",
    "volume_test = loaddata(\"volall_day\", start_date, end_date)\n",
    "mid_close_test = loaddata(\"mid_close\", start_date, end_date)\n",
    "\n",
    "chk = []\n",
    "for i in bottom_third_companies:\n",
    "    price_i_test = mid_close_test.iloc[i]\n",
    "\n",
    "    overnight_i_test = rtxm_ti1_test.iloc[i, 1:]\n",
    "    intraday_i_test = rtxm_ti2_test.iloc[i,:-1]\n",
    "    volume_i_test = volume_test.iloc[i, :-1].map(lambda x: my_log(x), na_action=\"ignore\")\n",
    "\n",
    "    rsi_12_test = RSI(rtxm_ti2_test.iloc[i], 12)[:-1]\n",
    "\n",
    "    macd_26_12_9_test = MACD(price_i_test, 26, 12, 9)[:-1]\n",
    "\n",
    "    y_test = r_ti2_test.iloc[i, 1:].map(lambda x: sign(x), na_action=\"ignore\")\n",
    "\n",
    "    data_test = {'X1': np.array(overnight_i_test), 'X2': np.array(intraday_i_test), \"X3\": np.array(volume_i_test), \n",
    "        \"X4\": np.array(rsi_12_test), \"X5\": np.array(macd_26_12_9_test),\n",
    "        \"Y\": np.array(y_test)}\n",
    "\n",
    "    data_test = pd.DataFrame(data_test)\n",
    "    new_test = data_test.dropna()\n",
    "    X_test = new_test[[\"X1\",\"X2\",\"X3\",\"X4\",\"X5\"]]  \n",
    "    y_test = new_test[[\"Y\"]]\n",
    "    if X_test.shape[0] > 100:\n",
    "        chk.append(LR.score(X_test, y_test))\n",
    "\n",
    "print(sum(chk)/len(chk), max(chk), min(chk))"
   ]
  },
  {
   "cell_type": "code",
   "execution_count": 21,
   "metadata": {},
   "outputs": [
    {
     "name": "stdout",
     "output_type": "stream",
     "text": [
      "Mean Score:  0.5244614713384114\n",
      "Max Score:  0.6790123456790124\n",
      "Min Score:  0.42083333333333334\n"
     ]
    }
   ],
   "source": [
    "print(\"Mean Score: \", sum(chk)/len(chk))\n",
    "print(\"Max Score: \", max(chk))\n",
    "print(\"Min Score: \", min(chk))"
   ]
  }
 ],
 "metadata": {
  "kernelspec": {
   "display_name": "ml-0451",
   "language": "python",
   "name": "python3"
  },
  "language_info": {
   "codemirror_mode": {
    "name": "ipython",
    "version": 3
   },
   "file_extension": ".py",
   "mimetype": "text/x-python",
   "name": "python",
   "nbconvert_exporter": "python",
   "pygments_lexer": "ipython3",
   "version": "3.9.18"
  }
 },
 "nbformat": 4,
 "nbformat_minor": 2
}
