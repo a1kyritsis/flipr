{
 "cells": [
  {
   "cell_type": "code",
   "execution_count": 47,
   "metadata": {},
   "outputs": [],
   "source": [
    "import numpy as np\n",
    "import pandas as pd\n",
    "import matplotlib.pyplot as plt\n",
    "import seaborn as sns\n",
    "from sklearn.linear_model import LogisticRegression, LinearRegression\n",
    "from sklearn.preprocessing import PolynomialFeatures\n",
    "poly = PolynomialFeatures(2)"
   ]
  },
  {
   "cell_type": "code",
   "execution_count": 2,
   "metadata": {},
   "outputs": [],
   "source": [
    "%load_ext autoreload\n",
    "%autoreload 2\n",
    "from functions import loaddata, MACD, RSI\n",
    "from portfolio import Portfolio"
   ]
  },
  {
   "cell_type": "code",
   "execution_count": 3,
   "metadata": {},
   "outputs": [],
   "source": [
    "def sign(x):\n",
    "    if x > 0:\n",
    "        return 1\n",
    "    elif x < 0:\n",
    "        return 0\n",
    "    else:\n",
    "        return 2\n",
    "    \n",
    "def my_log(x):\n",
    "    if x != 0 and np.isnan(x) == False:\n",
    "        return np.log(x)\n",
    "    else:\n",
    "        return x"
   ]
  },
  {
   "cell_type": "code",
   "execution_count": 69,
   "metadata": {},
   "outputs": [],
   "source": [
    "start_date = 20180101\n",
    "end_date = 20200101\n",
    "rtxm_ti2 = loaddata(\"rtxm_ti2\", start_date, end_date)\n",
    "rtxm_ti1 = loaddata(\"rtxm_ti1\", start_date, end_date)\n",
    "r_ti2 = loaddata(\"r_ti2\", start_date, end_date)\n",
    "volume = loaddata(\"volall_day\", start_date, end_date)\n",
    "mid_close = loaddata(\"mid_close\", start_date, end_date)\n",
    "risk = loaddata(\"bfast_totrisk\", start_date, end_date)"
   ]
  },
  {
   "cell_type": "code",
   "execution_count": 70,
   "metadata": {},
   "outputs": [],
   "source": [
    "average_risk = risk.mean(axis=1, skipna=True).dropna()\n",
    "bottom_third = average_risk.quantile(.3333)\n",
    "bottom_third_companies = average_risk[average_risk < bottom_third].index"
   ]
  },
  {
   "cell_type": "code",
   "execution_count": 77,
   "metadata": {},
   "outputs": [
    {
     "data": {
      "text/plain": [
       "1272"
      ]
     },
     "execution_count": 77,
     "metadata": {},
     "output_type": "execute_result"
    }
   ],
   "source": [
    "len(bottom_third_companies)"
   ]
  },
  {
   "cell_type": "code",
   "execution_count": 71,
   "metadata": {},
   "outputs": [],
   "source": [
    "total = []\n",
    "for i in bottom_third_companies:\n",
    "    price_i = mid_close.iloc[i]\n",
    "\n",
    "    overnight_i = rtxm_ti1.iloc[i, 1:]\n",
    "    intraday_i = rtxm_ti2.iloc[i,:-1]\n",
    "    volume_i = volume.iloc[i, :-1].map(lambda x: my_log(x), na_action=\"ignore\")\n",
    "\n",
    "    rsi_12 = RSI(rtxm_ti2.iloc[i], 12)[:-1]\n",
    "\n",
    "    macd_26_12_9 = MACD(price_i, 26, 12, 9)[:-1]\n",
    "   \n",
    "    y = r_ti2.iloc[i, 1:].map(lambda x: sign(x), na_action=\"ignore\")\n",
    "\n",
    "    data = {'X1': np.array(overnight_i), 'X2': np.array(intraday_i), \"X3\": np.array(volume_i), \n",
    "            \"X4\": np.array(rsi_12), \"X5\": np.array(macd_26_12_9),\n",
    "            \"Y\": np.array(y)}\n",
    "\n",
    "    data_train = pd.DataFrame(data)\n",
    "    new_train = data_train.dropna()\n",
    "\n",
    "    if new_train.shape[0] > 100:\n",
    "        total.append(new_train)\n",
    "\n",
    "final_df = pd.concat(total)"
   ]
  },
  {
   "cell_type": "code",
   "execution_count": 72,
   "metadata": {},
   "outputs": [
    {
     "name": "stderr",
     "output_type": "stream",
     "text": [
      "/Users/jameshetherington/anaconda3/envs/ml-0451/lib/python3.9/site-packages/sklearn/linear_model/_logistic.py:469: ConvergenceWarning: lbfgs failed to converge (status=1):\n",
      "STOP: TOTAL NO. of ITERATIONS REACHED LIMIT.\n",
      "\n",
      "Increase the number of iterations (max_iter) or scale the data as shown in:\n",
      "    https://scikit-learn.org/stable/modules/preprocessing.html\n",
      "Please also refer to the documentation for alternative solver options:\n",
      "    https://scikit-learn.org/stable/modules/linear_model.html#logistic-regression\n",
      "  n_iter_i = _check_optimize_result(\n"
     ]
    },
    {
     "data": {
      "text/plain": [
       "array([[ 2.54104530e-03,  2.85653945e-03,  4.61982467e-04,\n",
       "         1.98022542e-02,  3.40156999e-02, -7.07555999e-04,\n",
       "         2.27544063e-05, -6.29548168e-06,  4.20896407e-02,\n",
       "         1.36256366e-01,  3.13141593e-06,  1.92822124e-05,\n",
       "         9.55242938e-03,  2.23619386e-02,  1.61852807e-04,\n",
       "         3.34712325e-03, -2.01991256e-03,  4.10666127e-03,\n",
       "        -4.23087821e-05,  1.26700624e-03,  8.03043304e-03],\n",
       "       [ 1.84318034e-03, -2.79802201e-03, -2.86701525e-04,\n",
       "         1.31171393e-02,  4.36660535e-02, -2.62720488e-04,\n",
       "        -1.73326430e-05,  5.64341604e-06, -4.11685745e-02,\n",
       "        -1.33792168e-01, -8.53824009e-06,  1.99613541e-06,\n",
       "        -6.45566656e-03, -7.26679639e-03, -1.34279578e-04,\n",
       "         4.31155730e-03, -2.95241202e-03, -1.63714859e-02,\n",
       "         1.38089063e-05,  3.93232564e-03,  6.25656760e-03],\n",
       "       [-4.38422564e-03, -5.85174403e-05, -1.75280941e-04,\n",
       "        -3.29193935e-02, -7.76817534e-02,  9.70276487e-04,\n",
       "        -5.42176326e-06,  6.52065640e-07, -9.21066142e-04,\n",
       "        -2.46419819e-03,  5.40682416e-06, -2.12783478e-05,\n",
       "        -3.09676282e-03, -1.50951422e-02, -2.75732288e-05,\n",
       "        -7.65868056e-03,  4.97232458e-03,  1.22648247e-02,\n",
       "         2.84998759e-05, -5.19933188e-03, -1.42870006e-02]])"
      ]
     },
     "execution_count": 72,
     "metadata": {},
     "output_type": "execute_result"
    }
   ],
   "source": [
    "LR = LogisticRegression(max_iter=1000)\n",
    "temp = final_df.sample(frac=1).reset_index(drop=True)\n",
    "final_x_training = temp[[\"X1\",\"X2\",\"X3\",\"X4\",\"X5\"]]\n",
    "final_y_training = temp[[\"Y\"]]\n",
    "attempt = poly.fit_transform(final_x_training)\n",
    "LR.fit(attempt, np.ravel(final_y_training))\n",
    "LR.coef_"
   ]
  },
  {
   "cell_type": "code",
   "execution_count": 64,
   "metadata": {},
   "outputs": [
    {
     "name": "stdout",
     "output_type": "stream",
     "text": [
      "0.5201889111820222 0.6639004149377593 0.4074074074074074\n"
     ]
    }
   ],
   "source": [
    "start_date = 20190101\n",
    "end_date = 20200101\n",
    "rtxm_ti2_test = loaddata(\"rtxm_ti2\", start_date, end_date)\n",
    "rtxm_ti1_test = loaddata(\"rtxm_ti1\", start_date, end_date)\n",
    "r_ti2_test = loaddata(\"r_ti2\", start_date, end_date)\n",
    "volume_test = loaddata(\"volall_day\", start_date, end_date)\n",
    "mid_close_test = loaddata(\"mid_close\", start_date, end_date)\n",
    "\n",
    "chk = []\n",
    "for i in bottom_third_companies:\n",
    "    price_i_test = mid_close_test.iloc[i]\n",
    "\n",
    "    overnight_i_test = rtxm_ti1_test.iloc[i, 1:]\n",
    "    intraday_i_test = rtxm_ti2_test.iloc[i,:-1]\n",
    "    volume_i_test = volume_test.iloc[i, :-1].map(lambda x: my_log(x), na_action=\"ignore\")\n",
    "\n",
    "    rsi_12_test = RSI(rtxm_ti2_test.iloc[i], 12)[:-1]\n",
    "\n",
    "    macd_26_12_9_test = MACD(price_i_test, 26, 12, 9)[:-1]\n",
    "\n",
    "    y_test = r_ti2_test.iloc[i, 1:].map(lambda x: sign(x), na_action=\"ignore\")\n",
    "\n",
    "    data_test = {'X1': np.array(overnight_i_test), 'X2': np.array(intraday_i_test), \"X3\": np.array(volume_i_test), \n",
    "        \"X4\": np.array(rsi_12_test), \"X5\": np.array(macd_26_12_9_test),\n",
    "        \"Y\": np.array(y_test)}\n",
    "\n",
    "    data_test = pd.DataFrame(data_test)\n",
    "    new_test = data_test.dropna()\n",
    "    X_test = new_test[[\"X1\",\"X2\",\"X3\",\"X4\",\"X5\"]]  \n",
    "    y_test = new_test[[\"Y\"]]\n",
    "    if X_test.shape[0] > 100:\n",
    "        x_test = poly.fit_transform(X_test)\n",
    "        chk.append(LR.score(x_test, y_test))\n",
    "\n",
    "print(sum(chk)/len(chk), max(chk), min(chk))"
   ]
  },
  {
   "cell_type": "code",
   "execution_count": 55,
   "metadata": {},
   "outputs": [
    {
     "name": "stdout",
     "output_type": "stream",
     "text": [
      "Mean Score:  0.5251412435215079\n",
      "Max Score:  0.6419753086419753\n",
      "Min Score:  0.40329218106995884\n"
     ]
    }
   ],
   "source": [
    "print(\"Mean Score: \", sum(chk)/len(chk))\n",
    "print(\"Max Score: \", max(chk))\n",
    "print(\"Min Score: \", min(chk))"
   ]
  },
  {
   "cell_type": "markdown",
   "metadata": {},
   "source": [
    "<font size=\"5\"> How much do we make? <font>"
   ]
  },
  {
   "cell_type": "code",
   "execution_count": 73,
   "metadata": {},
   "outputs": [],
   "source": [
    "start_date = 20200101\n",
    "end_date = 20210101\n",
    "rtxm_ti2_test = loaddata(\"rtxm_ti2\", start_date, end_date)\n",
    "rtxm_ti1_test = loaddata(\"rtxm_ti1\", start_date, end_date)\n",
    "r_ti2_test = loaddata(\"r_ti2\", start_date, end_date)\n",
    "volume_test = loaddata(\"volall_day\", start_date, end_date)\n",
    "mid_close_test = loaddata(\"mid_close\", start_date, end_date)\n",
    "mid_open_test = loaddata(\"mid_open\", start_date, end_date)"
   ]
  },
  {
   "cell_type": "code",
   "execution_count": 74,
   "metadata": {},
   "outputs": [
    {
     "name": "stdout",
     "output_type": "stream",
     "text": [
      "Proportion of correct labels:  0.9495751202790675\n",
      "Proportion of correct guesses:  0.4893855611400408\n",
      "Total Money Made:  3667.12910771367\n"
     ]
    }
   ],
   "source": [
    "\n",
    "total = []\n",
    "test = []\n",
    "pls = []\n",
    "for i in bottom_third_companies:\n",
    "    total_made = 0\n",
    "    \n",
    "    price_i_test = mid_close_test.iloc[i]\n",
    "    open_price_i_test = mid_open_test.iloc[i]\n",
    "    overnight_i_test = rtxm_ti1_test.iloc[i, 1:]\n",
    "    intraday_i_test = rtxm_ti2_test.iloc[i,:-1]\n",
    "    volume_i_test = volume_test.iloc[i, :-1].map(lambda x: my_log(x), na_action=\"ignore\")\n",
    "\n",
    "    rsi_12_test = RSI(rtxm_ti2_test.iloc[i], 12)[:-1]\n",
    "\n",
    "    macd_26_12_9_test = MACD(price_i_test, 26, 12, 9)[:-1]\n",
    "\n",
    "    y_test = r_ti2_test.iloc[i, 1:].map(lambda x: sign(x), na_action=\"ignore\")\n",
    "\n",
    "    data_test = {'X1': np.array(overnight_i_test), 'X2': np.array(intraday_i_test), \"X3\": np.array(volume_i_test), \n",
    "        \"X4\": np.array(rsi_12_test), \"X5\": np.array(macd_26_12_9_test),\n",
    "        \"Y\": np.array(y_test)}\n",
    "\n",
    "    data_test = pd.DataFrame(data_test, index=y_test.index)\n",
    "\n",
    "    new_test = data_test.dropna()\n",
    "    X_test = new_test[[\"X1\",\"X2\",\"X3\",\"X4\",\"X5\"]]  \n",
    "    y_test = new_test[[\"Y\"]]\n",
    "    \n",
    "    if X_test.shape[0] > 100:\n",
    "        x_test = poly.fit_transform(X_test)\n",
    "        signals = LR.predict(x_test)\n",
    "        count = 0\n",
    "\n",
    "        signal_dates = new_test.index\n",
    "\n",
    "        for j in range(len(signals)):\n",
    "            price1 = open_price_i_test.loc[signal_dates[j]]\n",
    "            price2 = price_i_test.loc[signal_dates[j]]\n",
    "            pls.append(int(price1 - price2 < 0) == np.array(y_test)[j][0])\n",
    "            #Short\n",
    "            if signals[j] == 0:\n",
    "                gain = price1 - price2\n",
    "                test.append(gain > 0)\n",
    "                total_made += gain\n",
    "            #Long\n",
    "            elif signals[j] == 1:\n",
    "                gain = price2 - price1\n",
    "                test.append(gain > 0)\n",
    "                total_made += gain\n",
    "        total.append(total_made)\n",
    "\n",
    "print(\"Proportion of correct labels: \", sum(pls)/len(pls))\n",
    "print(\"Proportion of correct guesses: \", sum(test)/len(test))\n",
    "print(\"Total Money Made: \", sum(total))"
   ]
  },
  {
   "cell_type": "code",
   "execution_count": 75,
   "metadata": {},
   "outputs": [
    {
     "data": {
      "text/plain": [
       "0.2057963327777884"
      ]
     },
     "execution_count": 75,
     "metadata": {},
     "output_type": "execute_result"
    }
   ],
   "source": [
    "sum(total) / mid_open_test.iloc[:,0][bottom_third_companies.values].dropna().sum()\n"
   ]
  },
  {
   "cell_type": "code",
   "execution_count": 76,
   "metadata": {},
   "outputs": [
    {
     "data": {
      "text/plain": [
       "17819.2150375843"
      ]
     },
     "execution_count": 76,
     "metadata": {},
     "output_type": "execute_result"
    }
   ],
   "source": [
    "mid_open_test.iloc[:,0][bottom_third_companies.values].dropna().sum()"
   ]
  }
 ],
 "metadata": {
  "kernelspec": {
   "display_name": "ml-0451",
   "language": "python",
   "name": "python3"
  },
  "language_info": {
   "codemirror_mode": {
    "name": "ipython",
    "version": 3
   },
   "file_extension": ".py",
   "mimetype": "text/x-python",
   "name": "python",
   "nbconvert_exporter": "python",
   "pygments_lexer": "ipython3",
   "version": "3.9.18"
  }
 },
 "nbformat": 4,
 "nbformat_minor": 2
}
